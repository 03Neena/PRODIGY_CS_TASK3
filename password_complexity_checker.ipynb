{
 "cells": [
  {
   "cell_type": "code",
   "execution_count": 1,
   "id": "615c2035-831e-4605-b208-cc249cea262d",
   "metadata": {},
   "outputs": [],
   "source": [
    "import re\n",
    "\n",
    "def check_password_strength(password):\n",
    "    # Criteria\n",
    "    min_length = 8\n",
    "    has_uppercase = bool(re.search(r'[A-Z]', password))\n",
    "    has_lowercase = bool(re.search(r'[a-z]', password))\n",
    "    has_digit = bool(re.search(r'[0-9]', password))\n",
    "    has_special_char = bool(re.search(r'[!@#$%^&*(),.?\":{}|<>]', password))\n",
    "    \n",
    "    # Check length\n",
    "    if len(password) < min_length:\n",
    "        length_feedback = \"Password is too short. Minimum length is 8 characters.\"\n",
    "    else:\n",
    "        length_feedback = \"Password length is sufficient.\"\n",
    "\n",
    "    # Strength assessment\n",
    "    if len(password) < min_length or not (has_uppercase and has_lowercase and has_digit and has_special_char):\n",
    "        strength = \"Weak\"\n",
    "    elif len(password) < 12:\n",
    "        strength = \"Moderate\"\n",
    "    else:\n",
    "        strength = \"Strong\"\n",
    "\n",
    "    # Compile feedback\n",
    "    feedback = {\n",
    "        \"Length Feedback\": length_feedback,\n",
    "        \"Uppercase Letters\": \"Yes\" if has_uppercase else \"No\",\n",
    "        \"Lowercase Letters\": \"Yes\" if has_lowercase else \"No\",\n",
    "        \"Digits\": \"Yes\" if has_digit else \"No\",\n",
    "        \"Special Characters\": \"Yes\" if has_special_char else \"No\",\n",
    "        \"Password Strength\": strength\n",
    "    }\n",
    "    \n",
    "    return feedback\n"
   ]
  },
  {
   "cell_type": "code",
   "execution_count": 3,
   "id": "347ae6fc-9fb4-42fa-ad98-2da62ba38f9d",
   "metadata": {},
   "outputs": [
    {
     "name": "stdin",
     "output_type": "stream",
     "text": [
      "Enter your password:  #Booby123\n"
     ]
    },
    {
     "name": "stdout",
     "output_type": "stream",
     "text": [
      "\n",
      "Password Strength Assessment:\n",
      "Length Feedback: Password length is sufficient.\n",
      "Uppercase Letters: Yes\n",
      "Lowercase Letters: Yes\n",
      "Digits: Yes\n",
      "Special Characters: Yes\n",
      "Password Strength: Moderate\n"
     ]
    }
   ],
   "source": [
    "def main():\n",
    "    password = input(\"Enter your password: \")\n",
    "    feedback = check_password_strength(password)\n",
    "    \n",
    "    print(\"\\nPassword Strength Assessment:\")\n",
    "    for key, value in feedback.items():\n",
    "        print(f\"{key}: {value}\")\n",
    "\n",
    "# Run the program\n",
    "main()\n"
   ]
  }
 ],
 "metadata": {
  "kernelspec": {
   "display_name": "Python 3 (ipykernel)",
   "language": "python",
   "name": "python3"
  },
  "language_info": {
   "codemirror_mode": {
    "name": "ipython",
    "version": 3
   },
   "file_extension": ".py",
   "mimetype": "text/x-python",
   "name": "python",
   "nbconvert_exporter": "python",
   "pygments_lexer": "ipython3",
   "version": "3.12.4"
  }
 },
 "nbformat": 4,
 "nbformat_minor": 5
}
